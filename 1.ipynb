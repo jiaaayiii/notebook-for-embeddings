

{
   "cell_type": "markdown",
   "id": "practical-current",
   "metadata": {},
   "source": [
    "## EN-FR Dbpedia 520K"
   ]
  },
  {
   "cell_type": "code",
   "execution_count": 85,
   "id": "forward-supervision",
   "metadata": {},
   "outputs": [],
   "source": [
    "EnFr_shallom_embs_520K = pd.read_csv('Shallom_EnFr_520K/Shallom_entity_embeddings.csv')"
   ]
  },
  {
   "cell_type": "code",
   "execution_count": 86,
   "id": "effective-minister",
   "metadata": {},
   "outputs": [],
   "source": [
    "Fr_shallom_embs_520K = EnFr_shallom_embs_520K[EnFr_shallom_embs_520K['Unnamed: 0'].apply(lambda x: 'fr.dbpedia.org' in x)]"
   ]
  },
  {
   "cell_type": "code",
   "execution_count": 87,
   "id": "latter-kernel",
   "metadata": {},
   "outputs": [],
   "source": [
    "En_shallom_embs_520K = EnFr_shallom_embs_520K.iloc[np.setdiff1d(np.arange(EnFr_shallom_embs_520K.shape[0]),\\\n",
    "                                                            np.array(Fr_shallom_embs_520K.index))].set_index('Unnamed: 0')"
   ]
  },
  {
   "cell_type": "code",
   "execution_count": 88,
   "id": "residential-azerbaijan",
   "metadata": {},
   "outputs": [],
   "source": [
    "Fr_shallom_embs_520K = Fr_shallom_embs_520K.set_index('Unnamed: 0')"
   ]
  },
